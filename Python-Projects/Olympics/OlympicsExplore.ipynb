{
 "cells": [
  {
   "cell_type": "markdown",
   "metadata": {},
   "source": [
    "## Import Libraries"
   ]
  },
  {
   "cell_type": "code",
   "execution_count": 44,
   "metadata": {},
   "outputs": [],
   "source": [
    "import pandas as pd\n",
    "\n",
    "pd.set_option('display.max_columns', None)\n",
    "pd.set_option('display.max_rows', None)"
   ]
  },
  {
   "cell_type": "markdown",
   "metadata": {},
   "source": [
    "## Olympics Games Year and Location"
   ]
  },
  {
   "cell_type": "code",
   "execution_count": 45,
   "metadata": {},
   "outputs": [
    {
     "data": {
      "text/html": [
       "<div>\n",
       "<style scoped>\n",
       "    .dataframe tbody tr th:only-of-type {\n",
       "        vertical-align: middle;\n",
       "    }\n",
       "\n",
       "    .dataframe tbody tr th {\n",
       "        vertical-align: top;\n",
       "    }\n",
       "\n",
       "    .dataframe thead th {\n",
       "        text-align: right;\n",
       "    }\n",
       "</style>\n",
       "<table border=\"1\" class=\"dataframe\">\n",
       "  <thead>\n",
       "    <tr style=\"text-align: right;\">\n",
       "      <th></th>\n",
       "      <th>edition_id</th>\n",
       "      <th>edition</th>\n",
       "      <th>city</th>\n",
       "      <th>year</th>\n",
       "      <th>competition_date</th>\n",
       "    </tr>\n",
       "  </thead>\n",
       "  <tbody>\n",
       "    <tr>\n",
       "      <th>0</th>\n",
       "      <td>1</td>\n",
       "      <td>1896 Summer Olympics</td>\n",
       "      <td>Athina</td>\n",
       "      <td>1896</td>\n",
       "      <td>6 – 13 April</td>\n",
       "    </tr>\n",
       "    <tr>\n",
       "      <th>1</th>\n",
       "      <td>2</td>\n",
       "      <td>1900 Summer Olympics</td>\n",
       "      <td>Paris</td>\n",
       "      <td>1900</td>\n",
       "      <td>14 May – 28 October</td>\n",
       "    </tr>\n",
       "    <tr>\n",
       "      <th>2</th>\n",
       "      <td>3</td>\n",
       "      <td>1904 Summer Olympics</td>\n",
       "      <td>St. Louis</td>\n",
       "      <td>1904</td>\n",
       "      <td>1 July – 26 November</td>\n",
       "    </tr>\n",
       "    <tr>\n",
       "      <th>3</th>\n",
       "      <td>5</td>\n",
       "      <td>1908 Summer Olympics</td>\n",
       "      <td>London</td>\n",
       "      <td>1908</td>\n",
       "      <td>27 April – 31 October</td>\n",
       "    </tr>\n",
       "    <tr>\n",
       "      <th>4</th>\n",
       "      <td>6</td>\n",
       "      <td>1912 Summer Olympics</td>\n",
       "      <td>Stockholm</td>\n",
       "      <td>1912</td>\n",
       "      <td>5 May – 27 July</td>\n",
       "    </tr>\n",
       "  </tbody>\n",
       "</table>\n",
       "</div>"
      ],
      "text/plain": [
       "   edition_id               edition       city  year       competition_date\n",
       "0           1  1896 Summer Olympics     Athina  1896           6 – 13 April\n",
       "1           2  1900 Summer Olympics      Paris  1900    14 May – 28 October\n",
       "2           3  1904 Summer Olympics  St. Louis  1904   1 July – 26 November\n",
       "3           5  1908 Summer Olympics     London  1908  27 April – 31 October\n",
       "4           6  1912 Summer Olympics  Stockholm  1912        5 May – 27 July"
      ]
     },
     "execution_count": 45,
     "metadata": {},
     "output_type": "execute_result"
    }
   ],
   "source": [
    "import pandas as pd\n",
    "\n",
    "# Read the CSV file into a DataFrame\n",
    "df_Games = pd.read_csv(\"Olympics_Games.csv\")\n",
    "\n",
    "# Filter for rows where the edition is \"Summer\"\n",
    "df_Summer_Games = df_Games[df_Games['edition'].str.contains(\"Summer\")].sort_values(by='year')\n",
    "\n",
    "# Select relevant columns\n",
    "df_Summer_Games = df_Summer_Games[['edition_id', 'edition', 'city', 'year', 'competition_date']]\n",
    "\n",
    "# Replace missing values in 'competition_date' for specific 'edition_id' values\n",
    "df_Summer_Games.loc[df_Summer_Games['edition_id'].isin([50, 51, 52]), 'competition_date'] = \"Not Held Due to War\"\n",
    "\n",
    "# Display the DataFrame\n",
    "df_Summer_Games.head()\n"
   ]
  },
  {
   "cell_type": "markdown",
   "metadata": {},
   "source": [
    "## Olympics Medal Tally by Countries Overall"
   ]
  },
  {
   "cell_type": "code",
   "execution_count": 54,
   "metadata": {},
   "outputs": [
    {
     "data": {
      "text/html": [
       "<div>\n",
       "<style scoped>\n",
       "    .dataframe tbody tr th:only-of-type {\n",
       "        vertical-align: middle;\n",
       "    }\n",
       "\n",
       "    .dataframe tbody tr th {\n",
       "        vertical-align: top;\n",
       "    }\n",
       "\n",
       "    .dataframe thead th {\n",
       "        text-align: right;\n",
       "    }\n",
       "</style>\n",
       "<table border=\"1\" class=\"dataframe\">\n",
       "  <thead>\n",
       "    <tr style=\"text-align: right;\">\n",
       "      <th></th>\n",
       "      <th>country</th>\n",
       "      <th>Rank</th>\n",
       "      <th>gold</th>\n",
       "      <th>silver</th>\n",
       "      <th>bronze</th>\n",
       "      <th>total</th>\n",
       "    </tr>\n",
       "  </thead>\n",
       "  <tbody>\n",
       "    <tr>\n",
       "      <th>0</th>\n",
       "      <td>United States</td>\n",
       "      <td>1</td>\n",
       "      <td>1070</td>\n",
       "      <td>841</td>\n",
       "      <td>744</td>\n",
       "      <td>2655</td>\n",
       "    </tr>\n",
       "    <tr>\n",
       "      <th>1</th>\n",
       "      <td>Soviet Union</td>\n",
       "      <td>2</td>\n",
       "      <td>395</td>\n",
       "      <td>319</td>\n",
       "      <td>296</td>\n",
       "      <td>1010</td>\n",
       "    </tr>\n",
       "    <tr>\n",
       "      <th>2</th>\n",
       "      <td>Great Britain</td>\n",
       "      <td>3</td>\n",
       "      <td>291</td>\n",
       "      <td>323</td>\n",
       "      <td>313</td>\n",
       "      <td>927</td>\n",
       "    </tr>\n",
       "    <tr>\n",
       "      <th>3</th>\n",
       "      <td>Germany</td>\n",
       "      <td>4</td>\n",
       "      <td>237</td>\n",
       "      <td>264</td>\n",
       "      <td>290</td>\n",
       "      <td>791</td>\n",
       "    </tr>\n",
       "    <tr>\n",
       "      <th>4</th>\n",
       "      <td>France</td>\n",
       "      <td>5</td>\n",
       "      <td>231</td>\n",
       "      <td>257</td>\n",
       "      <td>285</td>\n",
       "      <td>773</td>\n",
       "    </tr>\n",
       "  </tbody>\n",
       "</table>\n",
       "</div>"
      ],
      "text/plain": [
       "         country  Rank  gold  silver  bronze  total\n",
       "0  United States     1  1070     841     744   2655\n",
       "1   Soviet Union     2   395     319     296   1010\n",
       "2  Great Britain     3   291     323     313    927\n",
       "3        Germany     4   237     264     290    791\n",
       "4         France     5   231     257     285    773"
      ]
     },
     "execution_count": 54,
     "metadata": {},
     "output_type": "execute_result"
    }
   ],
   "source": [
    "df_Medal = pd.read_csv(\"Olympic_Games_Medal_Tally.csv\")\n",
    "\n",
    "# Filter for rows where the edition is 'Summer'\n",
    "df_Medal = df_Medal[df_Medal['edition'].str.contains(\"Summer\")]\n",
    "\n",
    "# Group by country and sum the medal counts\n",
    "df_Medal = df_Medal.groupby('country').sum()\n",
    "\n",
    "# Select relevant columns to display\n",
    "df_Medal = df_Medal[['gold', 'silver', 'bronze', 'total']]\n",
    "\n",
    "# Sort by total medals in descending order\n",
    "df_Medal = df_Medal.sort_values(by='total', ascending=False)\n",
    "\n",
    "# Add rank column\n",
    "df_Medal['Rank'] = df_Medal['total'].rank(ascending=False, method='first').astype(int)\n",
    "\n",
    "# Reorder columns\n",
    "df_Medal = df_Medal[['Rank','gold', 'silver', 'bronze', 'total']].reset_index()\n",
    "\n",
    "df_Medal.head()"
   ]
  },
  {
   "cell_type": "code",
   "execution_count": null,
   "metadata": {},
   "outputs": [],
   "source": []
  },
  {
   "cell_type": "code",
   "execution_count": null,
   "metadata": {},
   "outputs": [],
   "source": []
  },
  {
   "cell_type": "code",
   "execution_count": null,
   "metadata": {},
   "outputs": [],
   "source": []
  },
  {
   "cell_type": "code",
   "execution_count": null,
   "metadata": {},
   "outputs": [],
   "source": []
  }
 ],
 "metadata": {
  "kernelspec": {
   "display_name": "Python 3",
   "language": "python",
   "name": "python3"
  },
  "language_info": {
   "codemirror_mode": {
    "name": "ipython",
    "version": 3
   },
   "file_extension": ".py",
   "mimetype": "text/x-python",
   "name": "python",
   "nbconvert_exporter": "python",
   "pygments_lexer": "ipython3",
   "version": "3.11.4"
  }
 },
 "nbformat": 4,
 "nbformat_minor": 2
}
